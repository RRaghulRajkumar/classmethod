{
 "cells": [
  {
   "cell_type": "code",
   "execution_count": 46,
   "id": "749f8255-b7e8-4a46-a4fb-fcaff1b0f848",
   "metadata": {},
   "outputs": [],
   "source": [
    "class details:\n",
    "    \n",
    "    @classmethod\n",
    "    def inputs(cls,name,phone_number):\n",
    "        details.name=name\n",
    "        details.phone_number=phone_number\n",
    "    @classmethod   \n",
    "    def printing(cls):\n",
    "        print(f\"Your name is {details.name} and Your Phone Number is {details.phone_number} \")"
   ]
  },
  {
   "cell_type": "code",
   "execution_count": 47,
   "id": "d1ae5930-b648-46e7-9d26-adf21acafc04",
   "metadata": {},
   "outputs": [],
   "source": [
    "obj1=details()"
   ]
  },
  {
   "cell_type": "code",
   "execution_count": 48,
   "id": "2a5dad6b-855b-40d6-a9b4-df359e2548af",
   "metadata": {},
   "outputs": [],
   "source": [
    "obj1.inputs(\"Raghul\",63857)"
   ]
  },
  {
   "cell_type": "code",
   "execution_count": 49,
   "id": "38f7f644-b870-4aee-9e59-2c47302e5b01",
   "metadata": {},
   "outputs": [
    {
     "data": {
      "text/plain": [
       "<__main__.details at 0x7f7be0545990>"
      ]
     },
     "execution_count": 49,
     "metadata": {},
     "output_type": "execute_result"
    }
   ],
   "source": [
    "obj1"
   ]
  },
  {
   "cell_type": "code",
   "execution_count": 50,
   "id": "041e127e-d29a-46dc-a36f-6857ea54f969",
   "metadata": {},
   "outputs": [
    {
     "name": "stdout",
     "output_type": "stream",
     "text": [
      "<__main__.details object at 0x7f7be0545990>\n"
     ]
    }
   ],
   "source": [
    "print(obj1)"
   ]
  },
  {
   "cell_type": "code",
   "execution_count": 51,
   "id": "5ff3cd8c-d20a-40cb-9329-33961fe12236",
   "metadata": {},
   "outputs": [
    {
     "name": "stdout",
     "output_type": "stream",
     "text": [
      "Your name is Raghul and Your Phone Number is 63857 \n"
     ]
    }
   ],
   "source": [
    "obj1.printing()"
   ]
  },
  {
   "cell_type": "code",
   "execution_count": 52,
   "id": "723c5c23-510c-41c3-a5c2-311bdad2f69b",
   "metadata": {},
   "outputs": [],
   "source": [
    "class details2:\n",
    "    \n",
    "    @classmethod\n",
    "    def inputs(cls,name,college_name):\n",
    "        details2.name=name\n",
    "        details2.college_name=college_name  \n",
    "    def printing(cls):\n",
    "        print(\"Your name is {} and Your Phone Number is {} \".format(name,college_name))"
   ]
  },
  {
   "cell_type": "code",
   "execution_count": 53,
   "id": "b5b5b7cd-8190-4a1d-b94c-4b4d0441f22e",
   "metadata": {},
   "outputs": [],
   "source": [
    "details2.inputs(\"Raghul\",\"DR.M.G.R. University\")"
   ]
  },
  {
   "cell_type": "code",
   "execution_count": 54,
   "id": "473e1a06-c8a4-403b-ae92-8be990f22c14",
   "metadata": {},
   "outputs": [
    {
     "name": "stdout",
     "output_type": "stream",
     "text": [
      "Your name is Raghul and Your Phone Number is 63857 \n"
     ]
    }
   ],
   "source": [
    "details.printing()"
   ]
  },
  {
   "cell_type": "code",
   "execution_count": 56,
   "id": "238e8426-28d4-4403-b746-a02a9a0b837d",
   "metadata": {},
   "outputs": [],
   "source": [
    "details2.age=classmethod(24)"
   ]
  },
  {
   "cell_type": "code",
   "execution_count": 58,
   "id": "6320b090-2a97-4481-80ea-6ff8ba006855",
   "metadata": {},
   "outputs": [
    {
     "data": {
      "text/plain": [
       "<bound method ? of <class '__main__.details2'>>"
      ]
     },
     "execution_count": 58,
     "metadata": {},
     "output_type": "execute_result"
    }
   ],
   "source": [
    "details2.age"
   ]
  },
  {
   "cell_type": "code",
   "execution_count": null,
   "id": "dae7497f-af81-42c4-b0f0-a77a7b5e9b6d",
   "metadata": {},
   "outputs": [],
   "source": []
  }
 ],
 "metadata": {
  "kernelspec": {
   "display_name": "Python 3 (ipykernel)",
   "language": "python",
   "name": "python3"
  },
  "language_info": {
   "codemirror_mode": {
    "name": "ipython",
    "version": 3
   },
   "file_extension": ".py",
   "mimetype": "text/x-python",
   "name": "python",
   "nbconvert_exporter": "python",
   "pygments_lexer": "ipython3",
   "version": "3.10.8"
  }
 },
 "nbformat": 4,
 "nbformat_minor": 5
}
